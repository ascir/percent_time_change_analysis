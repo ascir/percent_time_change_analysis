{
 "cells": [
  {
   "cell_type": "markdown",
   "metadata": {},
   "source": [
    "<div style=\"display:block\">\n",
    "    <div style=\"width: 20%; display: inline-block; text-align: left;\">\n",
    "    </div>\n",
    "    <div style=\"width: 59%; display: inline-block\">\n",
    "        <h1  style=\"text-align: center\">Calculating Percent Time Change</h1><br>\n",
    "        <div style=\"width: 90%; text-align: center; display: inline-block;\"><i>Author:</i> <strong>Anjana Ranjan</strong> </div>\n",
    "    </div>\n",
    "    <div style=\"width: 20%; text-align: right; display: inline-block;\">\n",
    "        <div style=\"width: 100%; text-align: left; display: inline-block;\">\n",
    "            <i>Created: </i>\n",
    "            <time datetime=\"Enter Date\" pubdate>June, 2018</time>\n",
    "        </div>\n",
    "    </div>\n",
    "</div>"
   ]
  },
  {
   "cell_type": "markdown",
   "metadata": {},
   "source": [
    "# Function  name\n",
    "PercentTimeChange"
   ]
  },
  {
   "cell_type": "markdown",
   "metadata": {},
   "source": [
    "# Functionality\n",
    "## This function finds the percentage of growth/depreciation in terms of:\n",
    "* Year Over Year\n",
    "* Quarter over quarter\n",
    "* Month Over Month\n",
    "* Week Over Week\n",
    "By dividing the dataset in terms of their dates"
   ]
  },
  {
   "cell_type": "markdown",
   "metadata": {},
   "source": [
    "#  Required parameters\n",
    "* Dataset with a date column in any format"
   ]
  },
  {
   "cell_type": "markdown",
   "metadata": {},
   "source": [
    "# Input parameters\n",
    " \n",
    "* Start Date(yyyy-dd-mm)\n",
    "* End Date(yyyy-dd-mm)\n",
    "* Attribute- any coloumn name\n",
    "* Timeframe- year, quarter, month, week\n",
    "* Function definition - YoY, QoQ, MoM, WoW"
   ]
  },
  {
   "cell_type": "markdown",
   "metadata": {},
   "source": [
    "# Default parameters\n",
    "*  The location to which the outPut csv file is saved\n"
   ]
  },
  {
   "cell_type": "markdown",
   "metadata": {},
   "source": [
    "# Return\n",
    "## Percentage change in the aforesaid attribute in:\n",
    "* ### YoY based on the grouping of the attribute in terms of:\n",
    "      * Years\n",
    "      * Quarters\n",
    "      * Months\n",
    "      * Weeks\n",
    "* ### QoQ based on the grouping of the attribute in terms of:\n",
    "      * Quarters\n",
    "      * Months\n",
    "      * Weeks\n",
    "* ### MoM based on the grouping of the attribute in terms of:\n",
    "      * Months\n",
    "      * Weeks\n",
    "* ### WoW based on the grouping of the attribute in terms of:\n",
    "      * Weeks      "
   ]
  },
  {
   "cell_type": "markdown",
   "metadata": {},
   "source": [
    "# Code"
   ]
  },
  {
   "cell_type": "code",
   "execution_count": 1,
   "metadata": {},
   "outputs": [],
   "source": [
    "import pandas as pd\n",
    "import numpy as np\n",
    "from datetime import datetime\n",
    "\n",
    "df1 = pd.read_csv(\"USDAProj_Corn_2016to2017.csv\")\n",
    "df2 = pd.read_csv(\"gun-violence-data_01-2013_03-2018.csv\")\n",
    "df3 = pd.read_csv(\"results.csv\")\n",
    "\n"
   ]
  },
  {
   "cell_type": "code",
   "execution_count": 9,
   "metadata": {},
   "outputs": [],
   "source": [
    "class PercentTimeChange:\n",
    "    \n",
    "    def __init__(self, df, startDate, endDate, columnName, timeframe):\n",
    "        self.df = df #dataframe\n",
    "        self.df['Date'] = pd.to_datetime(df['Date']) #change date column to pandas datetime format\n",
    "        self.startDate = datetime.strptime(startDate,'%Y-%d-%m') #accept start sate in yyyy-dd-mm \n",
    "        self.endDate = datetime.strptime(endDate,'%Y-%d-%m') #accept end sate in yyyy-dd-mm\n",
    "        self.columnName = columnName #column name of a column on which percent time change operation is performed\n",
    "        self.timeframe = timeframe #timeframe in years, quarters, months or weeks\n",
    "        \n",
    "    def module_masking(self):\n",
    "        mask = (self.df['Date'] >= self.startDate) & (self.df['Date'] <= self.endDate)#calculate for dates between start and end date\n",
    "        masked_df = self.df.loc[mask]\n",
    "        masked_df = masked_df.set_index('Date')#set index of dataframe to date column\n",
    "        return masked_df\n",
    "        \n",
    "    \n",
    "    def YoY(self):\n",
    "\n",
    "        if self.timeframe == 'Year':\n",
    "            masked_df = self.module_masking()\n",
    "            df_temp= masked_df[self.columnName].resample('Y').apply(sum)#grouped by sum of the atrribue for each year\n",
    "            df_temp= ((df_temp - df_temp.shift(1))/ df_temp)*100\n",
    "            return df_temp\n",
    "\n",
    "        elif self.timeframe == 'Quarter':\n",
    "            masked_df = self.module_masking()\n",
    "            df_temp= masked_df[self.columnName].resample('Q').apply(sum)\n",
    "            df_temp= ((df_temp - df_temp.shift(4))/ df_temp)*100\n",
    "            return df_temp\n",
    "\n",
    "        elif self.timeframe == 'Month':\n",
    "            masked_df = self.module_masking()\n",
    "            df_temp= masked_df[self.columnName].resample('M').apply(sum)\n",
    "            df_temp= ((df_temp - df_temp.shift(12))/ df_temp)*100\n",
    "            return df_temp\n",
    "\n",
    "        elif self.timeframe == 'Week':\n",
    "            masked_df = self.module_masking()\n",
    "            df_temp= masked_df[self.columnName].resample('W').apply(sum)\n",
    "            df_temp= ((df_temp - df_temp.shift(52))/ df_temp)*100\n",
    "            return df_temp\n",
    "        \n",
    "        else:\n",
    "            print('Invalid input')\n",
    "            \n",
    "        \n",
    "        \n",
    "    def QoQ(self):\n",
    "\n",
    "        if self.timeframe == 'Quarter':\n",
    "            masked_df = self.module_masking()\n",
    "            df_temp= masked_df[self.columnName].resample('Q').apply(sum)\n",
    "            df_temp= ((df_temp - df_temp.shift(1))/ df_temp)*100\n",
    "            return df_temp\n",
    "\n",
    "        elif self.timeframe == 'Month':\n",
    "            masked_df = self.module_masking()\n",
    "            df_temp= masked_df[self.columnName].resample('M').apply(sum)\n",
    "            df_temp= ((df_temp - df_temp.shift(4))/ df_temp)*100\n",
    "            return df_temp\n",
    "\n",
    "        elif self.timeframe == 'Week':\n",
    "            masked_df = self.module_masking()\n",
    "            df_temp= masked_df[self.columnName].resample('W').apply(sum)\n",
    "            df_temp= ((df_temp - df_temp.shift(16))/ df_temp)*100\n",
    "            return df_temp\n",
    "\n",
    "        else:\n",
    "            print('Invalid input')\n",
    "                \n",
    "                \n",
    "    def MoM(self):\n",
    "\n",
    "        if self.timeframe == 'Month':\n",
    "            masked_df = self.module_masking()\n",
    "            df_temp= masked_df[self.columnName].resample('M').apply(sum)\n",
    "            df_temp= ((df_temp - df_temp.shift(1))/ df_temp)*100\n",
    "            return df_temp\n",
    "\n",
    "        elif self.timeframe == 'Week':\n",
    "            masked_df = self.module_masking()\n",
    "            df_temp= masked_df[self.columnName].resample('W').apply(sum)\n",
    "            df_temp= ((df_temp - df_temp.shift(4))/ df_temp)*100\n",
    "            return df_temp\n",
    "\n",
    "        else:\n",
    "            print('Invalid input')\n",
    "                \n",
    "        \n",
    "        \n",
    "    def WoW(self):\n",
    "\n",
    "        if self.timeframe == 'Week':\n",
    "            masked_df = self.module_masking()\n",
    "            df_temp= masked_df[self.columnName].resample('W').apply(sum)\n",
    "            df_temp= ((df_temp - df_temp.shift(1))/ df_temp)*100\n",
    "            return df_temp\n",
    "\n",
    "        else:\n",
    "            print('Invalid input')\n",
    "\n",
    "        \n",
    "    \n",
    "\n",
    "        \n",
    "        "
   ]
  },
  {
   "cell_type": "markdown",
   "metadata": {},
   "source": [
    "# Testing \n"
   ]
  },
  {
   "cell_type": "code",
   "execution_count": 52,
   "metadata": {},
   "outputs": [
    {
     "name": "stderr",
     "output_type": "stream",
     "text": [
      "....\n",
      "----------------------------------------------------------------------\n",
      "Ran 4 tests in 0.088s\n",
      "\n",
      "OK\n"
     ]
    }
   ],
   "source": [
    "import unittest\n",
    "from pandas.util.testing import assert_series_equal\n",
    "from PercentTimeChange import PercentTimeChange\n",
    "\n",
    "class TimeTests(unittest.TestCase):\n",
    "\n",
    "    \n",
    "    def test_YoY(self):\n",
    "        result = PercentTimeChange(df1, '2016-12-10', '2018-29-05', 'Yield', 'Year')\n",
    "        test_file_name =  'USDAProj_Corn_2016to2017.csv'\n",
    "        \n",
    "        \n",
    "        try:\n",
    "            df_temp = pd.read_csv(test_file_name)\n",
    "            df_temp['Date'] = pd.to_datetime(df_temp['Date'])\n",
    "            mask = (df_temp['Date'] >= '10-12-2016') & (df_temp['Date'] <= '05-29-2018')\n",
    "            masked_df = df_temp.loc[mask]\n",
    "            df_temp = masked_df.set_index('Date')\n",
    "            df_temp = df_temp['Yield'].resample('Y').apply(sum)\n",
    "            df_temp = ((df_temp - df_temp.shift(1))/ df_temp)*100\n",
    "            \n",
    "            assert_series_equal(result.YoY(), df_temp)\n",
    "        \n",
    "        except IOError as e:\n",
    "            print(e)\n",
    "            print(\"TEST FAILED, check column name\")\n",
    "            \n",
    "    def test_QoQ(self):\n",
    "        result = PercentTimeChange(df1, '2016-12-10', '2018-29-05', 'Yield', 'Quarter')\n",
    "        test_file_name =  'USDAProj_Corn_2016to2017.csv'\n",
    "        \n",
    "        try:\n",
    "            df_temp = pd.read_csv(test_file_name)\n",
    "            df_temp['Date'] = pd.to_datetime(df_temp['Date'])\n",
    "            mask = (df_temp['Date'] >= '10-12-2016') & (df_temp['Date'] <= '05-29-2018')\n",
    "            masked_df = df_temp.loc[mask]\n",
    "            df_temp = masked_df.set_index('Date')\n",
    "            df_temp = df_temp['Yield'].resample('Q').apply(sum)\n",
    "            df_temp = ((df_temp - df_temp.shift(1))/ df_temp)*100\n",
    "            \n",
    "            assert_series_equal(result.QoQ(), df_temp)\n",
    "        \n",
    "        except IOError as e:\n",
    "            print(e)\n",
    "            print(\"TEST FAILED, check column name\")\n",
    "            \n",
    "    def test_MoM(self):\n",
    "        result = PercentTimeChange(df1, '2016-12-10', '2018-29-05', 'Yield', 'Month')\n",
    "        test_file_name =  'USDAProj_Corn_2016to2017.csv'\n",
    "        \n",
    "        \n",
    "        try:\n",
    "            df_temp = pd.read_csv(test_file_name)\n",
    "            df_temp['Date'] = pd.to_datetime(df_temp['Date'])\n",
    "            mask = (df_temp['Date'] >= '10-12-2016') & (df_temp['Date'] <= '05-29-2018')\n",
    "            masked_df = df_temp.loc[mask]\n",
    "            df_temp = masked_df.set_index('Date')\n",
    "            df_temp = df_temp['Yield'].resample('M').apply(sum)\n",
    "            df_temp = ((df_temp - df_temp.shift(1))/ df_temp)*100\n",
    "            \n",
    "            assert_series_equal(result.MoM(), df_temp)\n",
    "        \n",
    "        except IOError as e:\n",
    "            print(e)\n",
    "            print(\"TEST FAILED, check column name\")\n",
    "            \n",
    "    def test_WoW(self):\n",
    "        result = PercentTimeChange(df1, '2016-12-10', '2018-29-05', 'Yield', 'Week')\n",
    "        test_file_name =  'USDAProj_Corn_2016to2017.csv'\n",
    "        \n",
    "        \n",
    "        try:\n",
    "            df_temp = pd.read_csv(test_file_name)\n",
    "            df_temp['Date'] = pd.to_datetime(df_temp['Date'])\n",
    "            mask = (df_temp['Date'] >= '10-12-2016') & (df_temp['Date'] <= '05-29-2018')\n",
    "            masked_df = df_temp.loc[mask]\n",
    "            df_temp = masked_df.set_index('Date')\n",
    "            df_temp = df_temp['Yield'].resample('W').apply(sum)\n",
    "            df_temp = ((df_temp - df_temp.shift(1))/ df_temp)*100\n",
    "            \n",
    "            assert_series_equal(result.WoW(), df_temp)\n",
    "        \n",
    "        except IOError as e:\n",
    "            print(e)\n",
    "            print(\"TEST FAILED, check column name\")\n",
    "\n",
    "if __name__ == '__main__':\n",
    "    unittest.main(argv=['first-arg-is-ignored'], exit=False)\n",
    "        \n",
    "        "
   ]
  },
  {
   "cell_type": "markdown",
   "metadata": {},
   "source": [
    "# Output testing"
   ]
  },
  {
   "cell_type": "markdown",
   "metadata": {},
   "source": [
    "## Test 1"
   ]
  },
  {
   "cell_type": "code",
   "execution_count": 54,
   "metadata": {},
   "outputs": [
    {
     "data": {
      "text/plain": [
       "Date\n",
       "2016-12-31          NaN\n",
       "2017-12-31    67.024628\n",
       "Freq: A-DEC, Name: Yield, dtype: float64"
      ]
     },
     "execution_count": 54,
     "metadata": {},
     "output_type": "execute_result"
    }
   ],
   "source": [
    "percentage = PercentTimeChange(df1, '2016-12-10', '2018-29-05', 'Yield', 'Year')\n",
    "percentage.YoY()"
   ]
  },
  {
   "cell_type": "markdown",
   "metadata": {},
   "source": [
    "### Pass/Fail\n",
    "Pass:\n",
    "The MoM in terms of months is calculated for the attribute 'yield' in dataframe1\n"
   ]
  },
  {
   "cell_type": "markdown",
   "metadata": {},
   "source": [
    "## Test 2"
   ]
  },
  {
   "cell_type": "code",
   "execution_count": 36,
   "metadata": {},
   "outputs": [
    {
     "data": {
      "text/plain": [
       "Date\n",
       "2013-12-31           NaN\n",
       "2014-12-31     95.743848\n",
       "2015-12-31     14.703156\n",
       "2016-12-31   -142.073609\n",
       "Freq: A-DEC, Name: n_injured, dtype: float64"
      ]
     },
     "execution_count": 36,
     "metadata": {},
     "output_type": "execute_result"
    }
   ],
   "source": [
    "percentage2 = PercentTimeChange(df2, '2013-01-01', '2016-21-05', 'n_injured', 'Year')\n",
    "percentage2.YoY()"
   ]
  },
  {
   "cell_type": "markdown",
   "metadata": {},
   "source": [
    "### Pass/Fail\n",
    "Pass:\n",
    "The YoY in terms of years is calculated for the attribute 'yield' in dataframe1\n"
   ]
  },
  {
   "cell_type": "markdown",
   "metadata": {},
   "source": [
    "## Test 3"
   ]
  },
  {
   "cell_type": "code",
   "execution_count": 35,
   "metadata": {},
   "outputs": [
    {
     "data": {
      "text/plain": [
       "Date\n",
       "1874-03-31           NaN\n",
       "1874-06-30           NaN\n",
       "1874-09-30           NaN\n",
       "1874-12-31           NaN\n",
       "1875-03-31      0.000000\n",
       "1875-06-30           NaN\n",
       "1875-09-30           NaN\n",
       "1875-12-31           NaN\n",
       "1876-03-31     71.428571\n",
       "1876-06-30           NaN\n",
       "1876-09-30           NaN\n",
       "1876-12-31           NaN\n",
       "1877-03-31   -600.000000\n",
       "1877-06-30           NaN\n",
       "1877-09-30           NaN\n",
       "1877-12-31           NaN\n",
       "1878-03-31     93.750000\n",
       "1878-06-30           NaN\n",
       "1878-09-30           NaN\n",
       "1878-12-31           NaN\n",
       "1879-03-31   -700.000000\n",
       "1879-06-30    100.000000\n",
       "1879-09-30           NaN\n",
       "1879-12-31           NaN\n",
       "1880-03-31     83.333333\n",
       "1880-06-30          -inf\n",
       "1880-09-30           NaN\n",
       "1880-12-31           NaN\n",
       "1881-03-31   -500.000000\n",
       "1881-06-30           NaN\n",
       "                 ...    \n",
       "1998-09-30      4.984424\n",
       "1998-12-31    -60.952381\n",
       "1999-03-31     -0.353357\n",
       "1999-06-30    -10.557185\n",
       "1999-09-30     -4.220779\n",
       "1999-12-31     19.847328\n",
       "2000-03-31     51.623932\n",
       "2000-06-30     32.475248\n",
       "2000-09-30     26.139089\n",
       "2000-12-31     17.868339\n",
       "2001-03-31    -15.612648\n",
       "2001-06-30     25.074184\n",
       "2001-09-30    -19.484241\n",
       "2001-12-31      0.623053\n",
       "2002-03-31    -97.656250\n",
       "2002-06-30   -183.193277\n",
       "2002-09-30    -20.344828\n",
       "2002-12-31     12.534060\n",
       "2003-03-31     32.453826\n",
       "2003-06-30     30.813953\n",
       "2003-09-30      9.937888\n",
       "2003-12-31     31.529851\n",
       "2004-03-31     13.863636\n",
       "2004-06-30     34.724858\n",
       "2004-09-30     16.795866\n",
       "2004-12-31     -6.772908\n",
       "2005-03-31    -23.943662\n",
       "2005-06-30    -99.621212\n",
       "2005-09-30      8.510638\n",
       "2005-12-31   -147.290640\n",
       "Freq: Q-DEC, Name: home_score, Length: 528, dtype: float64"
      ]
     },
     "execution_count": 35,
     "metadata": {},
     "output_type": "execute_result"
    }
   ],
   "source": [
    "percentage3 = PercentTimeChange(df3, '1873-03-08', '2005-22-12', 'home_score', 'Quarter')\n",
    "percentage3.YoY()"
   ]
  },
  {
   "cell_type": "markdown",
   "metadata": {},
   "source": [
    "### Pass/Fail\n",
    "Pass:\n",
    "The YoY in terms of quarters is calculated for the attribute 'home_score' in dataframe1\n"
   ]
  }
 ],
 "metadata": {
  "kernelspec": {
   "display_name": "Python 3",
   "language": "python",
   "name": "python3"
  },
  "language_info": {
   "codemirror_mode": {
    "name": "ipython",
    "version": 3
   },
   "file_extension": ".py",
   "mimetype": "text/x-python",
   "name": "python",
   "nbconvert_exporter": "python",
   "pygments_lexer": "ipython3",
   "version": "3.7.3"
  }
 },
 "nbformat": 4,
 "nbformat_minor": 2
}
